{
 "cells": [
  {
   "cell_type": "markdown",
   "metadata": {},
   "source": [
    "## Importações\n"
   ]
  },
  {
   "cell_type": "code",
   "execution_count": 9,
   "metadata": {},
   "outputs": [],
   "source": [
    "import pandas as pd\n",
    "import numpy as np\n",
    "\n",
    "from sklearn.preprocessing import OrdinalEncoder\n",
    "from sklearn.model_selection import train_test_split\n",
    "from sklearn.model_selection import cross_val_score\n",
    "from sklearn.model_selection import KFold\n",
    "\n",
    "from xgboost import  XGBClassifier\n",
    "\n",
    "from category_encoders import CatBoostEncoder"
   ]
  },
  {
   "cell_type": "code",
   "execution_count": 10,
   "metadata": {},
   "outputs": [],
   "source": [
    "df_bruto = pd.read_csv(\"treino.csv\")\n",
    "print('teste3')"
   ]
  },
  {
   "cell_type": "markdown",
   "metadata": {},
   "source": [
    "## EDA"
   ]
  },
  {
   "cell_type": "code",
   "execution_count": 11,
   "metadata": {},
   "outputs": [
    {
     "data": {
      "text/plain": [
       "0    1\n",
       "1    1\n",
       "2    1\n",
       "3    1\n",
       "4    1\n",
       "Name: Demissao, dtype: int64"
      ]
     },
     "execution_count": 11,
     "metadata": {},
     "output_type": "execute_result"
    }
   ],
   "source": [
    "df_bruto['Demissao'].head()"
   ]
  },
  {
   "cell_type": "code",
   "execution_count": 12,
   "metadata": {},
   "outputs": [
    {
     "data": {
      "text/plain": [
       "Index(['Unnamed: 0', 'Idade', 'Demissao', 'Viagem', 'SalarioHora',\n",
       "       'Departamento', 'DistanciaCasa', 'Educacao', 'CampoEducacional',\n",
       "       'NumeroEmpregados', 'EmployeeNumber', 'Satisfacao', 'Genero',\n",
       "       'SalarioHora.1', 'Envolvimento', 'NivelSenioridade', 'Cargo',\n",
       "       'SatisfacaoAmbientes', 'StatusMatrimonial', 'Salario', 'SalarioMes',\n",
       "       'NumeroEmpresasTrabalhou', 'AumentoSalarialPercentual',\n",
       "       'PerformanceRating', 'SatisfacaoRelacionamentos', 'AnosTrabalhados',\n",
       "       'TreinamentosUltimoAno', 'BalancoVidaTrabalho', 'AnorNaEmpresa',\n",
       "       'AnosNaPosicaoAtual', 'AnosUltimaPromocao', 'AnosComAtualGerente'],\n",
       "      dtype='object')"
      ]
     },
     "execution_count": 12,
     "metadata": {},
     "output_type": "execute_result"
    }
   ],
   "source": [
    "df_bruto.columns"
   ]
  },
  {
   "cell_type": "code",
   "execution_count": 13,
   "metadata": {},
   "outputs": [],
   "source": [
    "pd.set_option('display.max_rows', None)\n",
    "pd.set_option('display.max_columns', None)"
   ]
  },
  {
   "cell_type": "code",
   "execution_count": 14,
   "metadata": {},
   "outputs": [
    {
     "data": {
      "text/plain": [
       "['Viagem',\n",
       " 'Departamento',\n",
       " 'CampoEducacional',\n",
       " 'Genero',\n",
       " 'Cargo',\n",
       " 'StatusMatrimonial']"
      ]
     },
     "execution_count": 14,
     "metadata": {},
     "output_type": "execute_result"
    }
   ],
   "source": [
    "lista_var_categoricas = [x for x in df_bruto.columns if df_bruto[x].dtypes == 'object']\n",
    "lista_var_categoricas"
   ]
  },
  {
   "cell_type": "markdown",
   "metadata": {},
   "source": [
    "## Pré-processamento"
   ]
  },
  {
   "cell_type": "code",
   "execution_count": 15,
   "metadata": {},
   "outputs": [],
   "source": [
    "X = df_bruto.drop(\"Demissao\", axis = 1)\n",
    "y = df_bruto['Demissao']"
   ]
  },
  {
   "cell_type": "code",
   "execution_count": 16,
   "metadata": {},
   "outputs": [],
   "source": [
    "X_train, X_test, y_train, y_test = train_test_split(X, y, test_size=0.2, random_state=42)\n"
   ]
  },
  {
   "cell_type": "code",
   "execution_count": 17,
   "metadata": {},
   "outputs": [],
   "source": [
    "X_train[lista_var_categoricas]\n",
    "ordinal = [\"Genero\"]\n",
    "lista_cat = [\"Viagem\", \"Departamento\", \"CampoEducacional\", \"StatusMatrimonial\", \"Cargo\"]"
   ]
  },
  {
   "cell_type": "code",
   "execution_count": 18,
   "metadata": {},
   "outputs": [
    {
     "data": {
      "text/plain": [
       "[\"Viagem : ['Raramente', 'Frequentemente', 'NaoViaja']\",\n",
       " \"Departamento : ['Vendas', 'Pesquisa', 'Recursos Humanos']\",\n",
       " \"CampoEducacional : ['Ciencias Sociais', 'Outros', 'Medicina', 'Marketing', 'Tecnologo', 'Recursos Humanos']\",\n",
       " \"Genero : ['Feminino', 'Masculino']\",\n",
       " \"Cargo : ['Executivo de Vendas', 'Tecnico de Laboratorio', 'Representante de Vendas', 'Pesquisador', 'Representante de Saude', 'Diretor de Manufatura', 'Gerente', 'Recursos Humanos', 'Diretor de Pesquisa']\",\n",
       " \"StatusMatrimonial : ['Solteiro', 'Casado', 'Divorciado']\"]"
      ]
     },
     "execution_count": 18,
     "metadata": {},
     "output_type": "execute_result"
    }
   ],
   "source": [
    "listas_unicas = [f'{x} : {list(df_bruto[x].unique())[:10]}' for x in lista_var_categoricas]\n",
    "listas_unicas"
   ]
  },
  {
   "cell_type": "code",
   "execution_count": 19,
   "metadata": {},
   "outputs": [],
   "source": [
    "ordinal_encoder = OrdinalEncoder(categories = [\n",
    "    [\"Masculino\", \"Feminino\"]\n",
    "])\n",
    "\n",
    "cat_encoder = CatBoostEncoder()"
   ]
  },
  {
   "cell_type": "code",
   "execution_count": 20,
   "metadata": {},
   "outputs": [
    {
     "data": {
      "text/html": [
       "<style>#sk-container-id-1 {color: black;background-color: white;}#sk-container-id-1 pre{padding: 0;}#sk-container-id-1 div.sk-toggleable {background-color: white;}#sk-container-id-1 label.sk-toggleable__label {cursor: pointer;display: block;width: 100%;margin-bottom: 0;padding: 0.3em;box-sizing: border-box;text-align: center;}#sk-container-id-1 label.sk-toggleable__label-arrow:before {content: \"▸\";float: left;margin-right: 0.25em;color: #696969;}#sk-container-id-1 label.sk-toggleable__label-arrow:hover:before {color: black;}#sk-container-id-1 div.sk-estimator:hover label.sk-toggleable__label-arrow:before {color: black;}#sk-container-id-1 div.sk-toggleable__content {max-height: 0;max-width: 0;overflow: hidden;text-align: left;background-color: #f0f8ff;}#sk-container-id-1 div.sk-toggleable__content pre {margin: 0.2em;color: black;border-radius: 0.25em;background-color: #f0f8ff;}#sk-container-id-1 input.sk-toggleable__control:checked~div.sk-toggleable__content {max-height: 200px;max-width: 100%;overflow: auto;}#sk-container-id-1 input.sk-toggleable__control:checked~label.sk-toggleable__label-arrow:before {content: \"▾\";}#sk-container-id-1 div.sk-estimator input.sk-toggleable__control:checked~label.sk-toggleable__label {background-color: #d4ebff;}#sk-container-id-1 div.sk-label input.sk-toggleable__control:checked~label.sk-toggleable__label {background-color: #d4ebff;}#sk-container-id-1 input.sk-hidden--visually {border: 0;clip: rect(1px 1px 1px 1px);clip: rect(1px, 1px, 1px, 1px);height: 1px;margin: -1px;overflow: hidden;padding: 0;position: absolute;width: 1px;}#sk-container-id-1 div.sk-estimator {font-family: monospace;background-color: #f0f8ff;border: 1px dotted black;border-radius: 0.25em;box-sizing: border-box;margin-bottom: 0.5em;}#sk-container-id-1 div.sk-estimator:hover {background-color: #d4ebff;}#sk-container-id-1 div.sk-parallel-item::after {content: \"\";width: 100%;border-bottom: 1px solid gray;flex-grow: 1;}#sk-container-id-1 div.sk-label:hover label.sk-toggleable__label {background-color: #d4ebff;}#sk-container-id-1 div.sk-serial::before {content: \"\";position: absolute;border-left: 1px solid gray;box-sizing: border-box;top: 0;bottom: 0;left: 50%;z-index: 0;}#sk-container-id-1 div.sk-serial {display: flex;flex-direction: column;align-items: center;background-color: white;padding-right: 0.2em;padding-left: 0.2em;position: relative;}#sk-container-id-1 div.sk-item {position: relative;z-index: 1;}#sk-container-id-1 div.sk-parallel {display: flex;align-items: stretch;justify-content: center;background-color: white;position: relative;}#sk-container-id-1 div.sk-item::before, #sk-container-id-1 div.sk-parallel-item::before {content: \"\";position: absolute;border-left: 1px solid gray;box-sizing: border-box;top: 0;bottom: 0;left: 50%;z-index: -1;}#sk-container-id-1 div.sk-parallel-item {display: flex;flex-direction: column;z-index: 1;position: relative;background-color: white;}#sk-container-id-1 div.sk-parallel-item:first-child::after {align-self: flex-end;width: 50%;}#sk-container-id-1 div.sk-parallel-item:last-child::after {align-self: flex-start;width: 50%;}#sk-container-id-1 div.sk-parallel-item:only-child::after {width: 0;}#sk-container-id-1 div.sk-dashed-wrapped {border: 1px dashed gray;margin: 0 0.4em 0.5em 0.4em;box-sizing: border-box;padding-bottom: 0.4em;background-color: white;}#sk-container-id-1 div.sk-label label {font-family: monospace;font-weight: bold;display: inline-block;line-height: 1.2em;}#sk-container-id-1 div.sk-label-container {text-align: center;}#sk-container-id-1 div.sk-container {/* jupyter's `normalize.less` sets `[hidden] { display: none; }` but bootstrap.min.css set `[hidden] { display: none !important; }` so we also need the `!important` here to be able to override the default hidden behavior on the sphinx rendered scikit-learn.org. See: https://github.com/scikit-learn/scikit-learn/issues/21755 */display: inline-block !important;position: relative;}#sk-container-id-1 div.sk-text-repr-fallback {display: none;}</style><div id=\"sk-container-id-1\" class=\"sk-top-container\"><div class=\"sk-text-repr-fallback\"><pre>CatBoostEncoder(cols=[&#x27;Viagem&#x27;, &#x27;Departamento&#x27;, &#x27;CampoEducacional&#x27;,\n",
       "                      &#x27;StatusMatrimonial&#x27;, &#x27;Cargo&#x27;])</pre><b>In a Jupyter environment, please rerun this cell to show the HTML representation or trust the notebook. <br />On GitHub, the HTML representation is unable to render, please try loading this page with nbviewer.org.</b></div><div class=\"sk-container\" hidden><div class=\"sk-item\"><div class=\"sk-estimator sk-toggleable\"><input class=\"sk-toggleable__control sk-hidden--visually\" id=\"sk-estimator-id-1\" type=\"checkbox\" checked><label for=\"sk-estimator-id-1\" class=\"sk-toggleable__label sk-toggleable__label-arrow\">CatBoostEncoder</label><div class=\"sk-toggleable__content\"><pre>CatBoostEncoder(cols=[&#x27;Viagem&#x27;, &#x27;Departamento&#x27;, &#x27;CampoEducacional&#x27;,\n",
       "                      &#x27;StatusMatrimonial&#x27;, &#x27;Cargo&#x27;])</pre></div></div></div></div></div>"
      ],
      "text/plain": [
       "CatBoostEncoder(cols=['Viagem', 'Departamento', 'CampoEducacional',\n",
       "                      'StatusMatrimonial', 'Cargo'])"
      ]
     },
     "execution_count": 20,
     "metadata": {},
     "output_type": "execute_result"
    }
   ],
   "source": [
    "cat_encoder.fit(X_train[lista_cat], y_train)"
   ]
  },
  {
   "cell_type": "code",
   "execution_count": 21,
   "metadata": {},
   "outputs": [],
   "source": [
    "X_train[lista_cat] = cat_encoder.transform(X_train[lista_cat])\n",
    "X_test[lista_cat] = cat_encoder.transform(X_test[lista_cat])"
   ]
  },
  {
   "cell_type": "code",
   "execution_count": 22,
   "metadata": {},
   "outputs": [],
   "source": [
    "X_train[ordinal] = ordinal_encoder.fit_transform(X_train[ordinal])\n",
    "X_test[ordinal] = ordinal_encoder.fit_transform(X_test[ordinal])\n"
   ]
  },
  {
   "cell_type": "code",
   "execution_count": 23,
   "metadata": {},
   "outputs": [
    {
     "data": {
      "text/html": [
       "<div>\n",
       "<style scoped>\n",
       "    .dataframe tbody tr th:only-of-type {\n",
       "        vertical-align: middle;\n",
       "    }\n",
       "\n",
       "    .dataframe tbody tr th {\n",
       "        vertical-align: top;\n",
       "    }\n",
       "\n",
       "    .dataframe thead th {\n",
       "        text-align: right;\n",
       "    }\n",
       "</style>\n",
       "<table border=\"1\" class=\"dataframe\">\n",
       "  <thead>\n",
       "    <tr style=\"text-align: right;\">\n",
       "      <th></th>\n",
       "      <th>Unnamed: 0</th>\n",
       "      <th>Idade</th>\n",
       "      <th>Viagem</th>\n",
       "      <th>SalarioHora</th>\n",
       "      <th>Departamento</th>\n",
       "      <th>DistanciaCasa</th>\n",
       "      <th>Educacao</th>\n",
       "      <th>CampoEducacional</th>\n",
       "      <th>NumeroEmpregados</th>\n",
       "      <th>EmployeeNumber</th>\n",
       "      <th>Satisfacao</th>\n",
       "      <th>Genero</th>\n",
       "      <th>SalarioHora.1</th>\n",
       "      <th>Envolvimento</th>\n",
       "      <th>NivelSenioridade</th>\n",
       "      <th>Cargo</th>\n",
       "      <th>SatisfacaoAmbientes</th>\n",
       "      <th>StatusMatrimonial</th>\n",
       "      <th>Salario</th>\n",
       "      <th>SalarioMes</th>\n",
       "      <th>NumeroEmpresasTrabalhou</th>\n",
       "      <th>AumentoSalarialPercentual</th>\n",
       "      <th>PerformanceRating</th>\n",
       "      <th>SatisfacaoRelacionamentos</th>\n",
       "      <th>AnosTrabalhados</th>\n",
       "      <th>TreinamentosUltimoAno</th>\n",
       "      <th>BalancoVidaTrabalho</th>\n",
       "      <th>AnorNaEmpresa</th>\n",
       "      <th>AnosNaPosicaoAtual</th>\n",
       "      <th>AnosUltimaPromocao</th>\n",
       "      <th>AnosComAtualGerente</th>\n",
       "    </tr>\n",
       "  </thead>\n",
       "  <tbody>\n",
       "    <tr>\n",
       "      <th>51</th>\n",
       "      <td>385</td>\n",
       "      <td>30</td>\n",
       "      <td>0.259106</td>\n",
       "      <td>464</td>\n",
       "      <td>0.136693</td>\n",
       "      <td>4</td>\n",
       "      <td>3</td>\n",
       "      <td>0.242159</td>\n",
       "      <td>1</td>\n",
       "      <td>514</td>\n",
       "      <td>3</td>\n",
       "      <td>0.0</td>\n",
       "      <td>40</td>\n",
       "      <td>3</td>\n",
       "      <td>1</td>\n",
       "      <td>0.161253</td>\n",
       "      <td>4</td>\n",
       "      <td>0.249738</td>\n",
       "      <td>2285</td>\n",
       "      <td>3427</td>\n",
       "      <td>9</td>\n",
       "      <td>23</td>\n",
       "      <td>4</td>\n",
       "      <td>3</td>\n",
       "      <td>3</td>\n",
       "      <td>4</td>\n",
       "      <td>3</td>\n",
       "      <td>1</td>\n",
       "      <td>0</td>\n",
       "      <td>0</td>\n",
       "      <td>0</td>\n",
       "    </tr>\n",
       "    <tr>\n",
       "      <th>289</th>\n",
       "      <td>95</td>\n",
       "      <td>54</td>\n",
       "      <td>0.141279</td>\n",
       "      <td>1217</td>\n",
       "      <td>0.136693</td>\n",
       "      <td>2</td>\n",
       "      <td>4</td>\n",
       "      <td>0.242159</td>\n",
       "      <td>1</td>\n",
       "      <td>126</td>\n",
       "      <td>1</td>\n",
       "      <td>1.0</td>\n",
       "      <td>60</td>\n",
       "      <td>3</td>\n",
       "      <td>3</td>\n",
       "      <td>0.019545</td>\n",
       "      <td>3</td>\n",
       "      <td>0.110334</td>\n",
       "      <td>13549</td>\n",
       "      <td>24001</td>\n",
       "      <td>9</td>\n",
       "      <td>12</td>\n",
       "      <td>3</td>\n",
       "      <td>1</td>\n",
       "      <td>16</td>\n",
       "      <td>5</td>\n",
       "      <td>1</td>\n",
       "      <td>4</td>\n",
       "      <td>3</td>\n",
       "      <td>0</td>\n",
       "      <td>3</td>\n",
       "    </tr>\n",
       "    <tr>\n",
       "      <th>677</th>\n",
       "      <td>561</td>\n",
       "      <td>52</td>\n",
       "      <td>0.141279</td>\n",
       "      <td>621</td>\n",
       "      <td>0.186347</td>\n",
       "      <td>3</td>\n",
       "      <td>4</td>\n",
       "      <td>0.210490</td>\n",
       "      <td>1</td>\n",
       "      <td>776</td>\n",
       "      <td>3</td>\n",
       "      <td>0.0</td>\n",
       "      <td>31</td>\n",
       "      <td>2</td>\n",
       "      <td>4</td>\n",
       "      <td>0.051915</td>\n",
       "      <td>1</td>\n",
       "      <td>0.110334</td>\n",
       "      <td>16856</td>\n",
       "      <td>10084</td>\n",
       "      <td>1</td>\n",
       "      <td>11</td>\n",
       "      <td>3</td>\n",
       "      <td>1</td>\n",
       "      <td>34</td>\n",
       "      <td>3</td>\n",
       "      <td>4</td>\n",
       "      <td>34</td>\n",
       "      <td>6</td>\n",
       "      <td>1</td>\n",
       "      <td>16</td>\n",
       "    </tr>\n",
       "    <tr>\n",
       "      <th>1005</th>\n",
       "      <td>972</td>\n",
       "      <td>18</td>\n",
       "      <td>0.050436</td>\n",
       "      <td>1124</td>\n",
       "      <td>0.136693</td>\n",
       "      <td>1</td>\n",
       "      <td>3</td>\n",
       "      <td>0.132806</td>\n",
       "      <td>1</td>\n",
       "      <td>1368</td>\n",
       "      <td>4</td>\n",
       "      <td>1.0</td>\n",
       "      <td>97</td>\n",
       "      <td>3</td>\n",
       "      <td>1</td>\n",
       "      <td>0.244543</td>\n",
       "      <td>4</td>\n",
       "      <td>0.249738</td>\n",
       "      <td>1611</td>\n",
       "      <td>19305</td>\n",
       "      <td>1</td>\n",
       "      <td>15</td>\n",
       "      <td>3</td>\n",
       "      <td>3</td>\n",
       "      <td>0</td>\n",
       "      <td>5</td>\n",
       "      <td>4</td>\n",
       "      <td>0</td>\n",
       "      <td>0</td>\n",
       "      <td>0</td>\n",
       "      <td>0</td>\n",
       "    </tr>\n",
       "    <tr>\n",
       "      <th>367</th>\n",
       "      <td>188</td>\n",
       "      <td>34</td>\n",
       "      <td>0.259106</td>\n",
       "      <td>1069</td>\n",
       "      <td>0.136693</td>\n",
       "      <td>2</td>\n",
       "      <td>1</td>\n",
       "      <td>0.132806</td>\n",
       "      <td>1</td>\n",
       "      <td>256</td>\n",
       "      <td>4</td>\n",
       "      <td>0.0</td>\n",
       "      <td>45</td>\n",
       "      <td>2</td>\n",
       "      <td>2</td>\n",
       "      <td>0.069095</td>\n",
       "      <td>3</td>\n",
       "      <td>0.110334</td>\n",
       "      <td>9547</td>\n",
       "      <td>14074</td>\n",
       "      <td>1</td>\n",
       "      <td>17</td>\n",
       "      <td>3</td>\n",
       "      <td>3</td>\n",
       "      <td>10</td>\n",
       "      <td>2</td>\n",
       "      <td>2</td>\n",
       "      <td>10</td>\n",
       "      <td>9</td>\n",
       "      <td>1</td>\n",
       "      <td>9</td>\n",
       "    </tr>\n",
       "  </tbody>\n",
       "</table>\n",
       "</div>"
      ],
      "text/plain": [
       "      Unnamed: 0  Idade    Viagem  SalarioHora  Departamento  DistanciaCasa  \\\n",
       "51           385     30  0.259106          464      0.136693              4   \n",
       "289           95     54  0.141279         1217      0.136693              2   \n",
       "677          561     52  0.141279          621      0.186347              3   \n",
       "1005         972     18  0.050436         1124      0.136693              1   \n",
       "367          188     34  0.259106         1069      0.136693              2   \n",
       "\n",
       "      Educacao  CampoEducacional  NumeroEmpregados  EmployeeNumber  \\\n",
       "51           3          0.242159                 1             514   \n",
       "289          4          0.242159                 1             126   \n",
       "677          4          0.210490                 1             776   \n",
       "1005         3          0.132806                 1            1368   \n",
       "367          1          0.132806                 1             256   \n",
       "\n",
       "      Satisfacao  Genero  SalarioHora.1  Envolvimento  NivelSenioridade  \\\n",
       "51             3     0.0             40             3                 1   \n",
       "289            1     1.0             60             3                 3   \n",
       "677            3     0.0             31             2                 4   \n",
       "1005           4     1.0             97             3                 1   \n",
       "367            4     0.0             45             2                 2   \n",
       "\n",
       "         Cargo  SatisfacaoAmbientes  StatusMatrimonial  Salario  SalarioMes  \\\n",
       "51    0.161253                    4           0.249738     2285        3427   \n",
       "289   0.019545                    3           0.110334    13549       24001   \n",
       "677   0.051915                    1           0.110334    16856       10084   \n",
       "1005  0.244543                    4           0.249738     1611       19305   \n",
       "367   0.069095                    3           0.110334     9547       14074   \n",
       "\n",
       "      NumeroEmpresasTrabalhou  AumentoSalarialPercentual  PerformanceRating  \\\n",
       "51                          9                         23                  4   \n",
       "289                         9                         12                  3   \n",
       "677                         1                         11                  3   \n",
       "1005                        1                         15                  3   \n",
       "367                         1                         17                  3   \n",
       "\n",
       "      SatisfacaoRelacionamentos  AnosTrabalhados  TreinamentosUltimoAno  \\\n",
       "51                            3                3                      4   \n",
       "289                           1               16                      5   \n",
       "677                           1               34                      3   \n",
       "1005                          3                0                      5   \n",
       "367                           3               10                      2   \n",
       "\n",
       "      BalancoVidaTrabalho  AnorNaEmpresa  AnosNaPosicaoAtual  \\\n",
       "51                      3              1                   0   \n",
       "289                     1              4                   3   \n",
       "677                     4             34                   6   \n",
       "1005                    4              0                   0   \n",
       "367                     2             10                   9   \n",
       "\n",
       "      AnosUltimaPromocao  AnosComAtualGerente  \n",
       "51                     0                    0  \n",
       "289                    0                    3  \n",
       "677                    1                   16  \n",
       "1005                   0                    0  \n",
       "367                    1                    9  "
      ]
     },
     "execution_count": 23,
     "metadata": {},
     "output_type": "execute_result"
    }
   ],
   "source": [
    "X_test.head()"
   ]
  },
  {
   "cell_type": "markdown",
   "metadata": {},
   "source": [
    "## Modelagem"
   ]
  },
  {
   "cell_type": "code",
   "execution_count": 24,
   "metadata": {},
   "outputs": [],
   "source": [
    "#compute_class_weight\n",
    "from sklearn.utils.class_weight import compute_class_weight\n",
    "\n",
    "class_weights = compute_class_weight('balanced', classes=np.unique(y_train), y=y_train)\n",
    "mean = class_weights.mean()\n",
    "\n",
    "sample_weights = np.array([class_weights[int(i)] for i in y_train])\n"
   ]
  },
  {
   "cell_type": "code",
   "execution_count": 25,
   "metadata": {},
   "outputs": [
    {
     "data": {
      "text/html": [
       "<style>#sk-container-id-2 {color: black;background-color: white;}#sk-container-id-2 pre{padding: 0;}#sk-container-id-2 div.sk-toggleable {background-color: white;}#sk-container-id-2 label.sk-toggleable__label {cursor: pointer;display: block;width: 100%;margin-bottom: 0;padding: 0.3em;box-sizing: border-box;text-align: center;}#sk-container-id-2 label.sk-toggleable__label-arrow:before {content: \"▸\";float: left;margin-right: 0.25em;color: #696969;}#sk-container-id-2 label.sk-toggleable__label-arrow:hover:before {color: black;}#sk-container-id-2 div.sk-estimator:hover label.sk-toggleable__label-arrow:before {color: black;}#sk-container-id-2 div.sk-toggleable__content {max-height: 0;max-width: 0;overflow: hidden;text-align: left;background-color: #f0f8ff;}#sk-container-id-2 div.sk-toggleable__content pre {margin: 0.2em;color: black;border-radius: 0.25em;background-color: #f0f8ff;}#sk-container-id-2 input.sk-toggleable__control:checked~div.sk-toggleable__content {max-height: 200px;max-width: 100%;overflow: auto;}#sk-container-id-2 input.sk-toggleable__control:checked~label.sk-toggleable__label-arrow:before {content: \"▾\";}#sk-container-id-2 div.sk-estimator input.sk-toggleable__control:checked~label.sk-toggleable__label {background-color: #d4ebff;}#sk-container-id-2 div.sk-label input.sk-toggleable__control:checked~label.sk-toggleable__label {background-color: #d4ebff;}#sk-container-id-2 input.sk-hidden--visually {border: 0;clip: rect(1px 1px 1px 1px);clip: rect(1px, 1px, 1px, 1px);height: 1px;margin: -1px;overflow: hidden;padding: 0;position: absolute;width: 1px;}#sk-container-id-2 div.sk-estimator {font-family: monospace;background-color: #f0f8ff;border: 1px dotted black;border-radius: 0.25em;box-sizing: border-box;margin-bottom: 0.5em;}#sk-container-id-2 div.sk-estimator:hover {background-color: #d4ebff;}#sk-container-id-2 div.sk-parallel-item::after {content: \"\";width: 100%;border-bottom: 1px solid gray;flex-grow: 1;}#sk-container-id-2 div.sk-label:hover label.sk-toggleable__label {background-color: #d4ebff;}#sk-container-id-2 div.sk-serial::before {content: \"\";position: absolute;border-left: 1px solid gray;box-sizing: border-box;top: 0;bottom: 0;left: 50%;z-index: 0;}#sk-container-id-2 div.sk-serial {display: flex;flex-direction: column;align-items: center;background-color: white;padding-right: 0.2em;padding-left: 0.2em;position: relative;}#sk-container-id-2 div.sk-item {position: relative;z-index: 1;}#sk-container-id-2 div.sk-parallel {display: flex;align-items: stretch;justify-content: center;background-color: white;position: relative;}#sk-container-id-2 div.sk-item::before, #sk-container-id-2 div.sk-parallel-item::before {content: \"\";position: absolute;border-left: 1px solid gray;box-sizing: border-box;top: 0;bottom: 0;left: 50%;z-index: -1;}#sk-container-id-2 div.sk-parallel-item {display: flex;flex-direction: column;z-index: 1;position: relative;background-color: white;}#sk-container-id-2 div.sk-parallel-item:first-child::after {align-self: flex-end;width: 50%;}#sk-container-id-2 div.sk-parallel-item:last-child::after {align-self: flex-start;width: 50%;}#sk-container-id-2 div.sk-parallel-item:only-child::after {width: 0;}#sk-container-id-2 div.sk-dashed-wrapped {border: 1px dashed gray;margin: 0 0.4em 0.5em 0.4em;box-sizing: border-box;padding-bottom: 0.4em;background-color: white;}#sk-container-id-2 div.sk-label label {font-family: monospace;font-weight: bold;display: inline-block;line-height: 1.2em;}#sk-container-id-2 div.sk-label-container {text-align: center;}#sk-container-id-2 div.sk-container {/* jupyter's `normalize.less` sets `[hidden] { display: none; }` but bootstrap.min.css set `[hidden] { display: none !important; }` so we also need the `!important` here to be able to override the default hidden behavior on the sphinx rendered scikit-learn.org. See: https://github.com/scikit-learn/scikit-learn/issues/21755 */display: inline-block !important;position: relative;}#sk-container-id-2 div.sk-text-repr-fallback {display: none;}</style><div id=\"sk-container-id-2\" class=\"sk-top-container\"><div class=\"sk-text-repr-fallback\"><pre>XGBClassifier(base_score=None, booster=None, callbacks=None,\n",
       "              colsample_bylevel=None, colsample_bynode=None,\n",
       "              colsample_bytree=None, early_stopping_rounds=None,\n",
       "              enable_categorical=False, eval_metric=None, feature_types=None,\n",
       "              gamma=None, gpu_id=None, grow_policy=None, importance_type=None,\n",
       "              interaction_constraints=None, learning_rate=None, max_bin=None,\n",
       "              max_cat_threshold=None, max_cat_to_onehot=None,\n",
       "              max_delta_step=None, max_depth=None, max_leaves=None,\n",
       "              min_child_weight=None, missing=nan, monotone_constraints=None,\n",
       "              n_estimators=100, n_jobs=None, num_parallel_tree=None,\n",
       "              predictor=None, random_state=None, ...)</pre><b>In a Jupyter environment, please rerun this cell to show the HTML representation or trust the notebook. <br />On GitHub, the HTML representation is unable to render, please try loading this page with nbviewer.org.</b></div><div class=\"sk-container\" hidden><div class=\"sk-item\"><div class=\"sk-estimator sk-toggleable\"><input class=\"sk-toggleable__control sk-hidden--visually\" id=\"sk-estimator-id-2\" type=\"checkbox\" checked><label for=\"sk-estimator-id-2\" class=\"sk-toggleable__label sk-toggleable__label-arrow\">XGBClassifier</label><div class=\"sk-toggleable__content\"><pre>XGBClassifier(base_score=None, booster=None, callbacks=None,\n",
       "              colsample_bylevel=None, colsample_bynode=None,\n",
       "              colsample_bytree=None, early_stopping_rounds=None,\n",
       "              enable_categorical=False, eval_metric=None, feature_types=None,\n",
       "              gamma=None, gpu_id=None, grow_policy=None, importance_type=None,\n",
       "              interaction_constraints=None, learning_rate=None, max_bin=None,\n",
       "              max_cat_threshold=None, max_cat_to_onehot=None,\n",
       "              max_delta_step=None, max_depth=None, max_leaves=None,\n",
       "              min_child_weight=None, missing=nan, monotone_constraints=None,\n",
       "              n_estimators=100, n_jobs=None, num_parallel_tree=None,\n",
       "              predictor=None, random_state=None, ...)</pre></div></div></div></div></div>"
      ],
      "text/plain": [
       "XGBClassifier(base_score=None, booster=None, callbacks=None,\n",
       "              colsample_bylevel=None, colsample_bynode=None,\n",
       "              colsample_bytree=None, early_stopping_rounds=None,\n",
       "              enable_categorical=False, eval_metric=None, feature_types=None,\n",
       "              gamma=None, gpu_id=None, grow_policy=None, importance_type=None,\n",
       "              interaction_constraints=None, learning_rate=None, max_bin=None,\n",
       "              max_cat_threshold=None, max_cat_to_onehot=None,\n",
       "              max_delta_step=None, max_depth=None, max_leaves=None,\n",
       "              min_child_weight=None, missing=nan, monotone_constraints=None,\n",
       "              n_estimators=100, n_jobs=None, num_parallel_tree=None,\n",
       "              predictor=None, random_state=None, ...)"
      ]
     },
     "execution_count": 25,
     "metadata": {},
     "output_type": "execute_result"
    }
   ],
   "source": [
    "classificador_xgb = XGBClassifier(scale_pos_weight=mean)\n",
    "\n",
    "classificador_xgb.fit(X_train, y_train, sample_weight = sample_weights)"
   ]
  },
  {
   "cell_type": "code",
   "execution_count": 26,
   "metadata": {},
   "outputs": [
    {
     "name": "stdout",
     "output_type": "stream",
     "text": [
      "F1-score: 0.3325086050687533\n",
      "accuracy: 0.856530643790092\n"
     ]
    }
   ],
   "source": [
    "def validation(model, X, y):\n",
    "\n",
    "  #leafs = [x for x in range(50, 1150, 50)]\n",
    "\n",
    "  f1_cv = cross_val_score(classificador_xgb, X, y, scoring='f1').mean()\n",
    "  accuracy = cross_val_score(classificador_xgb, X, y, scoring='accuracy').mean()\n",
    "\n",
    "  print(f'F1-score: {f1_cv}')\n",
    "  print(f'accuracy: {accuracy}')\n",
    "\n",
    "validation(classificador_xgb, X_train, y_train)"
   ]
  },
  {
   "cell_type": "code",
   "execution_count": null,
   "metadata": {},
   "outputs": [],
   "source": []
  }
 ],
 "metadata": {
  "kernelspec": {
   "display_name": "DSvenv",
   "language": "python",
   "name": "python3"
  },
  "language_info": {
   "codemirror_mode": {
    "name": "ipython",
    "version": 3
   },
   "file_extension": ".py",
   "mimetype": "text/x-python",
   "name": "python",
   "nbconvert_exporter": "python",
   "pygments_lexer": "ipython3",
   "version": "3.11.2"
  },
  "orig_nbformat": 4
 },
 "nbformat": 4,
 "nbformat_minor": 2
}
